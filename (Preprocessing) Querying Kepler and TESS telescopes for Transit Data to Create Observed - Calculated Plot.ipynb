   "execution_count": null,
    "outputs": [],
